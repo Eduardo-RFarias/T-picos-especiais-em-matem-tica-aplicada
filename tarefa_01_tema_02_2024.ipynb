{
  "cells": [
    {
      "cell_type": "markdown",
      "metadata": {
        "id": "JbLj-OUKojSL"
      },
      "source": [
        "# **Objetivo: criar uma rede neural simples usando Keras para uma tarefa de classificação binária**"
      ]
    },
    {
      "cell_type": "markdown",
      "metadata": {
        "id": "c3pOyaANmimQ"
      },
      "source": [
        " # **Importação dos Dados e Processamento**\n"
      ]
    },
    {
      "cell_type": "markdown",
      "metadata": {
        "id": "GAd5BOpNn1yb"
      },
      "source": [
        "O conjunto de dados que será utilizado aqui é: \"**Pima Indians Diabetes Dataset**\". Ele pode ser baixado de: https://raw.githubusercontent.com/jbrownlee/Datasets/master/pima-indians-diabetes.csv\n",
        "\n",
        "Este é um problema de classificação binária (2 classes). No conjunto de dados existem 768 observações com 8 variáveis de entrada e 1 variável de saída.\n",
        "\n",
        "Os nomes das variáveis são os seguintes:\n",
        "\n",
        "**1. Número de vezes grávida.**\n",
        "\n",
        "**2. Concentração de glicose plasmática após 2 horas em um teste oral de tolerância à glicose.**\n",
        "\n",
        "**3. Pressão arterial diastólica (mm Hg).**\n",
        "\n",
        "**4. Espessura da prega cutânea do tríceps (mm).**\n",
        "\n",
        "**5. Insulina sérica em 2 horas (mu U/ml).**\n",
        "\n",
        "**6. Índice de massa corporal (peso em kg/(altura em m)^2).**\n",
        "\n",
        "**7. Função pedigree para diabetes.**\n",
        "\n",
        "**8. Idade (anos).**\n",
        "\n",
        "**9. Variável de classe (0 ou 1).**"
      ]
    },
    {
      "cell_type": "markdown",
      "metadata": {
        "id": "vMaCoznbICMn"
      },
      "source": [
        "---\n",
        "Importe as bibliotecas necessárias"
      ]
    },
    {
      "cell_type": "code",
      "execution_count": 1,
      "metadata": {
        "id": "mwGyz6EwSRk5"
      },
      "outputs": [],
      "source": [
        "import numpy as np\n",
        "from sklearn.model_selection import train_test_split\n",
        "from keras.models import Sequential\n",
        "from keras.layers import Dense, Input"
      ]
    },
    {
      "cell_type": "markdown",
      "metadata": {
        "id": "V7YExT7uHx0I"
      },
      "source": [
        "---\n",
        "Importe e visualize detalhes dos dados usando os comandos `np.loadtext('nome do arquivo', delimiter=',')` e `np.shape(...)`"
      ]
    },
    {
      "cell_type": "code",
      "execution_count": 2,
      "metadata": {},
      "outputs": [
        {
          "name": "stdout",
          "output_type": "stream",
          "text": [
            "Data shape: (768, 9)\n"
          ]
        }
      ],
      "source": [
        "data = np.loadtxt(\"datasets/tarefa_01_dataset_pima.txt\", delimiter=\",\")\n",
        "m, n = data.shape\n",
        "print(f\"Data shape: ({m}, {n})\")"
      ]
    },
    {
      "cell_type": "markdown",
      "metadata": {
        "id": "gpi9uw4hIfvG"
      },
      "source": [
        "---\n",
        "Crie vetores `X_data` e `Y_data` para separar os 8 features, que são as entradas, e a única saída"
      ]
    },
    {
      "cell_type": "code",
      "execution_count": 3,
      "metadata": {
        "id": "a9-HDmIddX5M"
      },
      "outputs": [],
      "source": [
        "X_data = data[:, :-1]\n",
        "Y_data = data[:, -1]"
      ]
    },
    {
      "cell_type": "markdown",
      "metadata": {
        "id": "3aSA0h6tJR5m"
      },
      "source": [
        "---\n",
        "Separe os dados de treino e de teste usando o comando `train_test_split()`"
      ]
    },
    {
      "cell_type": "code",
      "execution_count": 4,
      "metadata": {
        "id": "6XY9nsL8dXzm"
      },
      "outputs": [],
      "source": [
        "X_train, X_test, Y_train, Y_test = train_test_split(X_data, Y_data, test_size=0.2)"
      ]
    },
    {
      "cell_type": "markdown",
      "metadata": {
        "id": "g7MjUdFEJW3q"
      },
      "source": [
        "---\n",
        "Verifique a dimensão do conjunto de treino e teste"
      ]
    },
    {
      "cell_type": "code",
      "execution_count": 5,
      "metadata": {},
      "outputs": [
        {
          "name": "stdout",
          "output_type": "stream",
          "text": [
            "X_train shape: (614, 8)\n",
            "X_test shape: (154, 8)\n",
            "Y_train shape: (614,)\n",
            "Y_test shape: (154,)\n"
          ]
        }
      ],
      "source": [
        "print(f\"X_train shape: {X_train.shape}\")\n",
        "print(f\"X_test shape: {X_test.shape}\")\n",
        "print(f\"Y_train shape: {Y_train.shape}\")\n",
        "print(f\"Y_test shape: {Y_test.shape}\")"
      ]
    },
    {
      "cell_type": "markdown",
      "metadata": {
        "id": "5hDbfl4qm5Iq"
      },
      "source": [
        "# **Construa o Modelo**"
      ]
    },
    {
      "cell_type": "markdown",
      "metadata": {
        "id": "GlF2bfnrJqrU"
      },
      "source": [
        "---\n",
        "Crie o seu modelo"
      ]
    },
    {
      "cell_type": "code",
      "execution_count": 6,
      "metadata": {
        "id": "BRvrz_MLSfMd"
      },
      "outputs": [],
      "source": [
        "model = Sequential()\n",
        "model.add(Input((n - 1,)))\n",
        "model.add(Dense(160, activation=\"relu\"))\n",
        "model.add(Dense(160, activation=\"relu\"))\n",
        "model.add(Dense(1, activation=\"sigmoid\"))"
      ]
    },
    {
      "cell_type": "markdown",
      "metadata": {
        "id": "JpycNJb0JswJ"
      },
      "source": [
        "---\n",
        "Adicione as camadas: lembrando que a primeira camada recebe como entrada um vetor no $\\mathbb{R}^8$."
      ]
    },
    {
      "cell_type": "code",
      "execution_count": 7,
      "metadata": {
        "id": "1uhibQNlWsPU"
      },
      "outputs": [
        {
          "data": {
            "text/html": [
              "<pre style=\"white-space:pre;overflow-x:auto;line-height:normal;font-family:Menlo,'DejaVu Sans Mono',consolas,'Courier New',monospace\"><span style=\"font-weight: bold\">Model: \"sequential\"</span>\n",
              "</pre>\n"
            ],
            "text/plain": [
              "\u001b[1mModel: \"sequential\"\u001b[0m\n"
            ]
          },
          "metadata": {},
          "output_type": "display_data"
        },
        {
          "data": {
            "text/html": [
              "<pre style=\"white-space:pre;overflow-x:auto;line-height:normal;font-family:Menlo,'DejaVu Sans Mono',consolas,'Courier New',monospace\">┏━━━━━━━━━━━━━━━━━━━━━━━━━━━━━━━━━┳━━━━━━━━━━━━━━━━━━━━━━━━┳━━━━━━━━━━━━━━━┓\n",
              "┃<span style=\"font-weight: bold\"> Layer (type)                    </span>┃<span style=\"font-weight: bold\"> Output Shape           </span>┃<span style=\"font-weight: bold\">       Param # </span>┃\n",
              "┡━━━━━━━━━━━━━━━━━━━━━━━━━━━━━━━━━╇━━━━━━━━━━━━━━━━━━━━━━━━╇━━━━━━━━━━━━━━━┩\n",
              "│ dense (<span style=\"color: #0087ff; text-decoration-color: #0087ff\">Dense</span>)                   │ (<span style=\"color: #00d7ff; text-decoration-color: #00d7ff\">None</span>, <span style=\"color: #00af00; text-decoration-color: #00af00\">160</span>)            │         <span style=\"color: #00af00; text-decoration-color: #00af00\">1,440</span> │\n",
              "├─────────────────────────────────┼────────────────────────┼───────────────┤\n",
              "│ dense_1 (<span style=\"color: #0087ff; text-decoration-color: #0087ff\">Dense</span>)                 │ (<span style=\"color: #00d7ff; text-decoration-color: #00d7ff\">None</span>, <span style=\"color: #00af00; text-decoration-color: #00af00\">160</span>)            │        <span style=\"color: #00af00; text-decoration-color: #00af00\">25,760</span> │\n",
              "├─────────────────────────────────┼────────────────────────┼───────────────┤\n",
              "│ dense_2 (<span style=\"color: #0087ff; text-decoration-color: #0087ff\">Dense</span>)                 │ (<span style=\"color: #00d7ff; text-decoration-color: #00d7ff\">None</span>, <span style=\"color: #00af00; text-decoration-color: #00af00\">1</span>)              │           <span style=\"color: #00af00; text-decoration-color: #00af00\">161</span> │\n",
              "└─────────────────────────────────┴────────────────────────┴───────────────┘\n",
              "</pre>\n"
            ],
            "text/plain": [
              "┏━━━━━━━━━━━━━━━━━━━━━━━━━━━━━━━━━┳━━━━━━━━━━━━━━━━━━━━━━━━┳━━━━━━━━━━━━━━━┓\n",
              "┃\u001b[1m \u001b[0m\u001b[1mLayer (type)                   \u001b[0m\u001b[1m \u001b[0m┃\u001b[1m \u001b[0m\u001b[1mOutput Shape          \u001b[0m\u001b[1m \u001b[0m┃\u001b[1m \u001b[0m\u001b[1m      Param #\u001b[0m\u001b[1m \u001b[0m┃\n",
              "┡━━━━━━━━━━━━━━━━━━━━━━━━━━━━━━━━━╇━━━━━━━━━━━━━━━━━━━━━━━━╇━━━━━━━━━━━━━━━┩\n",
              "│ dense (\u001b[38;5;33mDense\u001b[0m)                   │ (\u001b[38;5;45mNone\u001b[0m, \u001b[38;5;34m160\u001b[0m)            │         \u001b[38;5;34m1,440\u001b[0m │\n",
              "├─────────────────────────────────┼────────────────────────┼───────────────┤\n",
              "│ dense_1 (\u001b[38;5;33mDense\u001b[0m)                 │ (\u001b[38;5;45mNone\u001b[0m, \u001b[38;5;34m160\u001b[0m)            │        \u001b[38;5;34m25,760\u001b[0m │\n",
              "├─────────────────────────────────┼────────────────────────┼───────────────┤\n",
              "│ dense_2 (\u001b[38;5;33mDense\u001b[0m)                 │ (\u001b[38;5;45mNone\u001b[0m, \u001b[38;5;34m1\u001b[0m)              │           \u001b[38;5;34m161\u001b[0m │\n",
              "└─────────────────────────────────┴────────────────────────┴───────────────┘\n"
            ]
          },
          "metadata": {},
          "output_type": "display_data"
        },
        {
          "data": {
            "text/html": [
              "<pre style=\"white-space:pre;overflow-x:auto;line-height:normal;font-family:Menlo,'DejaVu Sans Mono',consolas,'Courier New',monospace\"><span style=\"font-weight: bold\"> Total params: </span><span style=\"color: #00af00; text-decoration-color: #00af00\">27,361</span> (106.88 KB)\n",
              "</pre>\n"
            ],
            "text/plain": [
              "\u001b[1m Total params: \u001b[0m\u001b[38;5;34m27,361\u001b[0m (106.88 KB)\n"
            ]
          },
          "metadata": {},
          "output_type": "display_data"
        },
        {
          "data": {
            "text/html": [
              "<pre style=\"white-space:pre;overflow-x:auto;line-height:normal;font-family:Menlo,'DejaVu Sans Mono',consolas,'Courier New',monospace\"><span style=\"font-weight: bold\"> Trainable params: </span><span style=\"color: #00af00; text-decoration-color: #00af00\">27,361</span> (106.88 KB)\n",
              "</pre>\n"
            ],
            "text/plain": [
              "\u001b[1m Trainable params: \u001b[0m\u001b[38;5;34m27,361\u001b[0m (106.88 KB)\n"
            ]
          },
          "metadata": {},
          "output_type": "display_data"
        },
        {
          "data": {
            "text/html": [
              "<pre style=\"white-space:pre;overflow-x:auto;line-height:normal;font-family:Menlo,'DejaVu Sans Mono',consolas,'Courier New',monospace\"><span style=\"font-weight: bold\"> Non-trainable params: </span><span style=\"color: #00af00; text-decoration-color: #00af00\">0</span> (0.00 B)\n",
              "</pre>\n"
            ],
            "text/plain": [
              "\u001b[1m Non-trainable params: \u001b[0m\u001b[38;5;34m0\u001b[0m (0.00 B)\n"
            ]
          },
          "metadata": {},
          "output_type": "display_data"
        }
      ],
      "source": [
        "model.summary()"
      ]
    },
    {
      "cell_type": "markdown",
      "metadata": {
        "id": "MEiinWLiJ_7b"
      },
      "source": [
        "---\n",
        "Compile o modelo escolhendo a função de perda e o otimizador."
      ]
    },
    {
      "cell_type": "code",
      "execution_count": 8,
      "metadata": {
        "id": "1_pihhdiTlHR"
      },
      "outputs": [],
      "source": [
        "model.compile(optimizer='adam', loss=\"binary_crossentropy\", metrics=[\"accuracy\"])"
      ]
    },
    {
      "cell_type": "markdown",
      "metadata": {
        "id": "1u-JSWmXnAqf"
      },
      "source": [
        "# **Treine e Teste**"
      ]
    },
    {
      "cell_type": "code",
      "execution_count": 9,
      "metadata": {
        "id": "GvTzUK7OasqW"
      },
      "outputs": [
        {
          "name": "stdout",
          "output_type": "stream",
          "text": [
            "Epoch 1/10\n",
            "\u001b[1m20/20\u001b[0m \u001b[32m━━━━━━━━━━━━━━━━━━━━\u001b[0m\u001b[37m\u001b[0m \u001b[1m1s\u001b[0m 9ms/step - accuracy: 0.5504 - loss: 3.9395 - val_accuracy: 0.7013 - val_loss: 0.8782\n",
            "Epoch 2/10\n",
            "\u001b[1m20/20\u001b[0m \u001b[32m━━━━━━━━━━━━━━━━━━━━\u001b[0m\u001b[37m\u001b[0m \u001b[1m0s\u001b[0m 3ms/step - accuracy: 0.5849 - loss: 1.2776 - val_accuracy: 0.6688 - val_loss: 0.6653\n",
            "Epoch 3/10\n",
            "\u001b[1m20/20\u001b[0m \u001b[32m━━━━━━━━━━━━━━━━━━━━\u001b[0m\u001b[37m\u001b[0m \u001b[1m0s\u001b[0m 2ms/step - accuracy: 0.6758 - loss: 0.7415 - val_accuracy: 0.6429 - val_loss: 0.7510\n",
            "Epoch 4/10\n",
            "\u001b[1m20/20\u001b[0m \u001b[32m━━━━━━━━━━━━━━━━━━━━\u001b[0m\u001b[37m\u001b[0m \u001b[1m0s\u001b[0m 3ms/step - accuracy: 0.6820 - loss: 0.7088 - val_accuracy: 0.6688 - val_loss: 0.8802\n",
            "Epoch 5/10\n",
            "\u001b[1m20/20\u001b[0m \u001b[32m━━━━━━━━━━━━━━━━━━━━\u001b[0m\u001b[37m\u001b[0m \u001b[1m0s\u001b[0m 2ms/step - accuracy: 0.6453 - loss: 0.8011 - val_accuracy: 0.5000 - val_loss: 0.9037\n",
            "Epoch 6/10\n",
            "\u001b[1m20/20\u001b[0m \u001b[32m━━━━━━━━━━━━━━━━━━━━\u001b[0m\u001b[37m\u001b[0m \u001b[1m0s\u001b[0m 2ms/step - accuracy: 0.6139 - loss: 0.7983 - val_accuracy: 0.6364 - val_loss: 0.7696\n",
            "Epoch 7/10\n",
            "\u001b[1m20/20\u001b[0m \u001b[32m━━━━━━━━━━━━━━━━━━━━\u001b[0m\u001b[37m\u001b[0m \u001b[1m0s\u001b[0m 3ms/step - accuracy: 0.6782 - loss: 0.6353 - val_accuracy: 0.6883 - val_loss: 0.6350\n",
            "Epoch 8/10\n",
            "\u001b[1m20/20\u001b[0m \u001b[32m━━━━━━━━━━━━━━━━━━━━\u001b[0m\u001b[37m\u001b[0m \u001b[1m0s\u001b[0m 2ms/step - accuracy: 0.6995 - loss: 0.7012 - val_accuracy: 0.5260 - val_loss: 0.8231\n",
            "Epoch 9/10\n",
            "\u001b[1m20/20\u001b[0m \u001b[32m━━━━━━━━━━━━━━━━━━━━\u001b[0m\u001b[37m\u001b[0m \u001b[1m0s\u001b[0m 2ms/step - accuracy: 0.6880 - loss: 0.6401 - val_accuracy: 0.6364 - val_loss: 0.7839\n",
            "Epoch 10/10\n",
            "\u001b[1m20/20\u001b[0m \u001b[32m━━━━━━━━━━━━━━━━━━━━\u001b[0m\u001b[37m\u001b[0m \u001b[1m0s\u001b[0m 2ms/step - accuracy: 0.6829 - loss: 0.7320 - val_accuracy: 0.6104 - val_loss: 0.8195\n"
          ]
        },
        {
          "data": {
            "text/plain": [
              "<keras.src.callbacks.history.History at 0x23e4a2a33a0>"
            ]
          },
          "execution_count": 9,
          "metadata": {},
          "output_type": "execute_result"
        }
      ],
      "source": [
        "model.fit(X_train, Y_train, epochs=10, validation_data=(X_test, Y_test))"
      ]
    },
    {
      "cell_type": "markdown",
      "metadata": {
        "id": "3kkl8oDSKM1W"
      },
      "source": [
        "---\n",
        "Avalie a precisão usando o comando `model.evaluate()`"
      ]
    },
    {
      "cell_type": "code",
      "execution_count": 10,
      "metadata": {
        "id": "FlT5Vst5h16C"
      },
      "outputs": [
        {
          "name": "stdout",
          "output_type": "stream",
          "text": [
            "\u001b[1m5/5\u001b[0m \u001b[32m━━━━━━━━━━━━━━━━━━━━\u001b[0m\u001b[37m\u001b[0m \u001b[1m0s\u001b[0m 3ms/step - accuracy: 0.6345 - loss: 0.8167\n",
            "Loss: 0.8194833993911743\n",
            "Accuracy: 61.04%\n"
          ]
        }
      ],
      "source": [
        "loss, acc = model.evaluate(X_test, Y_test)\n",
        "print(f\"Loss: {loss}\")\n",
        "print(f\"Accuracy: {acc*100:.2f}%\")"
      ]
    },
    {
      "cell_type": "markdown",
      "metadata": {
        "id": "Src3EIRsKbiE"
      },
      "source": [
        "Como ficou o resultado? Será que dá pra melhorar?"
      ]
    },
    {
      "cell_type": "markdown",
      "metadata": {
        "id": "TQJQQgk4rHYc"
      },
      "source": [
        "---\n",
        "Crie uma pessoa imaginária com um vetor, por exemplo, na forma `np.array([[2,148,72,35,0,33.6,0.627,25]])` e use o comando `model.predict()` para verificar se essa pessoa é classificada com ou sem diabetes."
      ]
    },
    {
      "cell_type": "code",
      "execution_count": 11,
      "metadata": {
        "id": "BtqHcIgEkn0l"
      },
      "outputs": [
        {
          "name": "stdout",
          "output_type": "stream",
          "text": [
            "\u001b[1m1/1\u001b[0m \u001b[32m━━━━━━━━━━━━━━━━━━━━\u001b[0m\u001b[37m\u001b[0m \u001b[1m0s\u001b[0m 45ms/step\n",
            "92.2%\n"
          ]
        }
      ],
      "source": [
        "person = np.array([[6, 148, 72, 35, 0, 33.6, 0.627, 50]])\n",
        "[[prediction]] = model.predict(person)\n",
        "print(f\"{prediction*100:.1f}%\")"
      ]
    }
  ],
  "metadata": {
    "colab": {
      "provenance": []
    },
    "kernelspec": {
      "display_name": ".env",
      "language": "python",
      "name": "python3"
    },
    "language_info": {
      "codemirror_mode": {
        "name": "ipython",
        "version": 3
      },
      "file_extension": ".py",
      "mimetype": "text/x-python",
      "name": "python",
      "nbconvert_exporter": "python",
      "pygments_lexer": "ipython3",
      "version": "3.9.12"
    }
  },
  "nbformat": 4,
  "nbformat_minor": 0
}
